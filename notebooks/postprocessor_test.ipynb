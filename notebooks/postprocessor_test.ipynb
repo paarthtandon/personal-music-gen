{
 "cells": [
  {
   "cell_type": "code",
   "execution_count": 1,
   "metadata": {},
   "outputs": [],
   "source": [
    "import sys\n",
    "sys.path.insert(0, 'C:\\\\Users\\\\Paarth Tandon\\\\Desktop\\\\repos\\\\personal-music-gen')"
   ]
  },
  {
   "cell_type": "code",
   "execution_count": 2,
   "metadata": {},
   "outputs": [
    {
     "name": "stderr",
     "output_type": "stream",
     "text": [
      "c:\\Users\\Paarth Tandon\\Desktop\\repos\\personal-music-gen\\.venv\\lib\\site-packages\\tqdm\\auto.py:21: TqdmWarning: IProgress not found. Please update jupyter and ipywidgets. See https://ipywidgets.readthedocs.io/en/stable/user_install.html\n",
      "  from .autonotebook import tqdm as notebook_tqdm\n",
      "Some weights of Wav2Vec2ForAudioClassification were not initialized from the model checkpoint at m3hrdadfi/wav2vec2-base-100k-gtzan-music-genres and are newly initialized: ['wav2vec2.encoder.pos_conv_embed.conv.parametrizations.weight.original1', 'wav2vec2.encoder.pos_conv_embed.conv.parametrizations.weight.original0']\n",
      "You should probably TRAIN this model on a down-stream task to be able to use it for predictions and inference.\n"
     ]
    }
   ],
   "source": [
    "from personal_musicgen.data.postprocess import Postprocessor\n",
    "pp = Postprocessor()"
   ]
  },
  {
   "cell_type": "code",
   "execution_count": 7,
   "metadata": {},
   "outputs": [],
   "source": [
    "test_file = 'C:\\\\Users\\\\Paarth Tandon\\\\Desktop\\\\repos\\\\personal-music-gen\\\\data\\\\wav_32k\\\\Across The Universe (Remastered 2009).wav'\n",
    "\n",
    "preds = pp.predict_genre(test_file)"
   ]
  },
  {
   "cell_type": "code",
   "execution_count": 8,
   "metadata": {},
   "outputs": [
    {
     "data": {
      "text/plain": [
       "[{'Label': 'blues', 'Score': '0.0%'},\n",
       " {'Label': 'classical', 'Score': '0.0%'},\n",
       " {'Label': 'country', 'Score': '0.1%'},\n",
       " {'Label': 'disco', 'Score': '0.0%'},\n",
       " {'Label': 'hiphop', 'Score': '0.0%'},\n",
       " {'Label': 'jazz', 'Score': '0.0%'},\n",
       " {'Label': 'metal', 'Score': '0.0%'},\n",
       " {'Label': 'pop', 'Score': '0.0%'},\n",
       " {'Label': 'reggae', 'Score': '0.0%'},\n",
       " {'Label': 'rock', 'Score': '99.8%'}]"
      ]
     },
     "execution_count": 8,
     "metadata": {},
     "output_type": "execute_result"
    }
   ],
   "source": [
    "preds"
   ]
  }
 ],
 "metadata": {
  "kernelspec": {
   "display_name": ".venv",
   "language": "python",
   "name": "python3"
  },
  "language_info": {
   "codemirror_mode": {
    "name": "ipython",
    "version": 3
   },
   "file_extension": ".py",
   "mimetype": "text/x-python",
   "name": "python",
   "nbconvert_exporter": "python",
   "pygments_lexer": "ipython3",
   "version": "3.9.18"
  }
 },
 "nbformat": 4,
 "nbformat_minor": 2
}
