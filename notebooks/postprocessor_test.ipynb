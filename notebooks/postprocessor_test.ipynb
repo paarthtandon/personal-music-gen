{
 "cells": [
  {
   "cell_type": "code",
   "execution_count": 1,
   "metadata": {},
   "outputs": [],
   "source": [
    "import sys\n",
    "sys.path.insert(0, 'C:\\\\Users\\\\Paarth Tandon\\\\Desktop\\\\repos\\\\personal-music-gen')"
   ]
  },
  {
   "cell_type": "code",
   "execution_count": 2,
   "metadata": {},
   "outputs": [
    {
     "name": "stderr",
     "output_type": "stream",
     "text": [
      "c:\\Users\\Paarth Tandon\\Desktop\\repos\\personal-music-gen\\.venv\\lib\\site-packages\\tqdm\\auto.py:21: TqdmWarning: IProgress not found. Please update jupyter and ipywidgets. See https://ipywidgets.readthedocs.io/en/stable/user_install.html\n",
      "  from .autonotebook import tqdm as notebook_tqdm\n",
      "Some weights of Wav2Vec2ForAudioClassification were not initialized from the model checkpoint at m3hrdadfi/wav2vec2-base-100k-gtzan-music-genres and are newly initialized: ['wav2vec2.encoder.pos_conv_embed.conv.parametrizations.weight.original1', 'wav2vec2.encoder.pos_conv_embed.conv.parametrizations.weight.original0']\n",
      "You should probably TRAIN this model on a down-stream task to be able to use it for predictions and inference.\n"
     ]
    }
   ],
   "source": [
    "from personal_musicgen.data.postprocess import Postprocessor\n",
    "pp = Postprocessor()"
   ]
  },
  {
   "cell_type": "code",
   "execution_count": 3,
   "metadata": {},
   "outputs": [
    {
     "data": {
      "text/plain": [
       "[{'Label': 'blues', 'Score': 9.315346e-05},\n",
       " {'Label': 'classical', 'Score': 3.126255e-05},\n",
       " {'Label': 'country', 'Score': 2.4442452e-05},\n",
       " {'Label': 'disco', 'Score': 0.00012351412},\n",
       " {'Label': 'hiphop', 'Score': 0.00024389838},\n",
       " {'Label': 'jazz', 'Score': 0.0001091701},\n",
       " {'Label': 'metal', 'Score': 0.9984877},\n",
       " {'Label': 'pop', 'Score': 6.089783e-05},\n",
       " {'Label': 'reggae', 'Score': 9.150403e-07},\n",
       " {'Label': 'rock', 'Score': 0.0008250579}]"
      ]
     },
     "execution_count": 3,
     "metadata": {},
     "output_type": "execute_result"
    }
   ],
   "source": [
    "test_file = 'C:\\\\Users\\\\Paarth Tandon\\\\Desktop\\\\repos\\\\personal-music-gen\\\\data\\\\wav_32k\\\\Brazil 66.wav'\n",
    "\n",
    "pp.predict_genre(test_file)"
   ]
  },
  {
   "cell_type": "code",
   "execution_count": 7,
   "metadata": {},
   "outputs": [],
   "source": [
    "import torchaudio\n",
    "\n",
    "original, no_voice = pp.separate_voice(test_file)\n",
    "torchaudio.save('no_voice.wav', no_voice, pp.target_sample_rate)"
   ]
  },
  {
   "cell_type": "code",
   "execution_count": 6,
   "metadata": {},
   "outputs": [
    {
     "data": {
      "text/plain": [
       "'brazil'"
      ]
     },
     "execution_count": 6,
     "metadata": {},
     "output_type": "execute_result"
    }
   ],
   "source": [
    "import re\n",
    "import os\n",
    "\n",
    "directory, filename = os.path.split(test_file)\n",
    "file_base, file_extension = os.path.splitext(filename)\n",
    "\n",
    "pattern = re.compile(r'[\\W\\d]+', re.UNICODE)\n",
    "cleaned_file_base = re.sub(pattern, '', file_base)\n",
    "cleaned_file_base = re.sub(r'[\\d_]', '', cleaned_file_base).lower()\n",
    "\n",
    "cleaned_file_base"
   ]
  },
  {
   "cell_type": "code",
   "execution_count": 3,
   "metadata": {},
   "outputs": [],
   "source": [
    "test_file = 'C:\\\\Users\\\\Paarth Tandon\\\\Desktop\\\\repos\\\\personal-music-gen\\\\data\\\\wav_32k\\\\Brazil 66.wav'\n",
    "\n",
    "pp.postprocess(test_file, '.', '.')"
   ]
  }
 ],
 "metadata": {
  "kernelspec": {
   "display_name": ".venv",
   "language": "python",
   "name": "python3"
  },
  "language_info": {
   "codemirror_mode": {
    "name": "ipython",
    "version": 3
   },
   "file_extension": ".py",
   "mimetype": "text/x-python",
   "name": "python",
   "nbconvert_exporter": "python",
   "pygments_lexer": "ipython3",
   "version": "3.9.18"
  }
 },
 "nbformat": 4,
 "nbformat_minor": 2
}
