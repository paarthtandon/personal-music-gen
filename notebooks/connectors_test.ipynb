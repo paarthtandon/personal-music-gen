{
 "cells": [
  {
   "cell_type": "code",
   "execution_count": 1,
   "metadata": {},
   "outputs": [],
   "source": [
    "import sys\n",
    "sys.path.insert(0, 'C:\\\\Users\\\\Paarth Tandon\\\\Desktop\\\\repos\\\\personal-music-gen')"
   ]
  },
  {
   "cell_type": "code",
   "execution_count": 2,
   "metadata": {},
   "outputs": [
    {
     "data": {
      "text/plain": [
       "True"
      ]
     },
     "execution_count": 2,
     "metadata": {},
     "output_type": "execute_result"
    }
   ],
   "source": [
    "import os\n",
    "from dotenv import load_dotenv\n",
    "from personal_musicgen.data import connectors\n",
    "\n",
    "load_dotenv()"
   ]
  },
  {
   "cell_type": "code",
   "execution_count": 3,
   "metadata": {},
   "outputs": [],
   "source": [
    "client_id = os.getenv('spotify_client_id')\n",
    "client_secret = os.getenv('spotify_client_secret')\n",
    "\n",
    "songs = connectors.get_saved_tracks_spotify(\n",
    "    client_id,\n",
    "    client_secret,\n",
    "    'https://paarthtandon.com/',\n",
    "    limit=10\n",
    ")"
   ]
  },
  {
   "cell_type": "code",
   "execution_count": 4,
   "metadata": {},
   "outputs": [
    {
     "name": "stdout",
     "output_type": "stream",
     "text": [
      "Downloading: AJ McQueen - ANXIETY\n",
      "Finished downloading: AJ McQueen - ANXIETY\n",
      "Downloading: The Gentle Men - Opinions Are Weapons\n",
      "Finished downloading: The Gentle Men - Opinions Are Weapons\n",
      "Downloading: The Gentle Men - Ghosts\n",
      "Finished downloading: The Gentle Men - Ghosts\n",
      "Downloading: The Gentle Men - Let You Down\n",
      "Finished downloading: The Gentle Men - Let You Down\n",
      "Downloading: Jedwill - Immortal\n",
      "Finished downloading: Jedwill - Immortal                 \n",
      "Downloading: Jedwill - Old Ways\n",
      "Finished downloading: Jedwill - Old Ways                 \n",
      "Downloading: Lunamatic - Art Piece\n",
      "Finished downloading: Lunamatic - Art Piece              \n",
      "Downloading: Jedwill - Garden\n",
      "Finished downloading: Jedwill - Garden                     \n",
      "Downloading: Jedwill - Kaleidoscope\n",
      "Finished downloading: Jedwill - Kaleidoscope             \n",
      "Downloading: Mgła - Exercises in Futility V\n",
      "Finished downloading: Mgła - Exercises in Futility V     \n",
      "Downloading: Jedwill - Athena\n",
      "Finished downloading: Jedwill - Athena                   \n",
      "Downloading: Marshall Law Band - Head Nod\n",
      "Finished downloading: Marshall Law Band - Head Nod         \n",
      "Downloading: Marshall Law Band - Can't Cheat the Heems\n",
      "Finished downloading: Marshall Law Band - Can't Cheat the Heems\n",
      "Downloading: Asian Glow - Ashes\n",
      "Finished downloading: Asian Glow - Ashes                   \n",
      "Downloading: Pretty Sick - She\n",
      "Finished downloading: Pretty Sick - She                  \n",
      "Downloading: Kids on Fire - Shark Gun\n",
      "Finished downloading: Kids on Fire - Shark Gun           \n",
      "Downloading: Kids on Fire - That One Brief Moment Where Everything Didn't Totally Suck\n",
      "Finished downloading: Kids on Fire - That One Brief Moment Where Everything Didn't Totally Suck\n",
      "Downloading: Kids on Fire - Slop Buckets\n",
      "Finished downloading: Kids on Fire - Slop Buckets        \n",
      "Downloading: Kids on Fire - Delridge\n",
      "Finished downloading: Kids on Fire - Delridge            \n",
      "Downloading: Kids on Fire - Cameron Frye\n",
      "Finished downloading: Kids on Fire - Cameron Frye        \n",
      "Downloading: Kids on Fire - First World Problems\n",
      "Finished downloading: Kids on Fire - First World Problems\n",
      "Downloading: Kids on Fire - Cokes on Sunday\n",
      "Finished downloading: Kids on Fire - Cokes on Sunday     \n",
      "Downloading: Kids on Fire - Rain City Forever\n",
      "Finished downloading: Kids on Fire - Rain City Forever   \n",
      "Downloading: Kids on Fire - Follow Me\n",
      "Finished downloading: Kids on Fire - Follow Me           \n",
      "Downloading: Kids on Fire - Ramblings of a Dramatic Asshole\n",
      "Finished downloading: Kids on Fire - Ramblings of a Dramatic Asshole\n",
      "Downloading: Kids on Fire - One for the Road\n",
      "Finished downloading: Kids on Fire - One for the Road    \n",
      "Downloading: Kids on Fire - Next Stop Anxiety\n",
      "Finished downloading: Kids on Fire - Next Stop Anxiety   \n",
      "Downloading: Kids on Fire - This is Family\n",
      "Finished downloading: Kids on Fire - This is Family        \n",
      "Downloading: Pretty Sick - Undress\n",
      "Finished downloading: Pretty Sick - Undress              \n",
      "Downloading: Pretty Sick - Angel Landing\n",
      "Finished downloading: Pretty Sick - Angel Landing        \n",
      "Downloading: Pretty Sick - Telephone\n",
      "Finished downloading: Pretty Sick - Telephone            \n",
      "Downloading: Pretty Sick - Pick Up\n",
      "Finished downloading: Pretty Sick - Pick Up                \n",
      "Downloading: Pretty Sick - Superstar\n",
      "Finished downloading: Pretty Sick - Superstar              \n",
      "Downloading: Pretty Sick - Allen Street\n",
      "Finished downloading: Pretty Sick - Allen Street         \n",
      "Downloading: Pretty Sick - Comedown\n",
      "Finished downloading: Pretty Sick - Comedown             \n",
      "Downloading: Hannah Jadagu - Say It Now\n",
      "Finished downloading: Hannah Jadagu - Say It Now         \n",
      "Downloading: Hannah Jadagu - Shut Down\n",
      "Finished downloading: Hannah Jadagu - Shut Down          \n",
      "Downloading: Hannah Jadagu - Dreaming\n",
      "Finished downloading: Hannah Jadagu - Dreaming           \n",
      "Downloading: WOLFGANG - Sit Down It's Time for Dinner\n",
      "Finished downloading: WOLFGANG - Sit Down It's Time for Dinner\n",
      "Downloading: Hannah Jadagu - All My Time Is Wasted\n",
      "Finished downloading: Hannah Jadagu - All My Time Is Wasted\n",
      "Downloading: Shawn Smith - Leaving California\n",
      "Finished downloading: Shawn Smith - Leaving California   \n",
      "Downloading: Shawn Smith - Wrapped In My Memory\n",
      "Finished downloading: Shawn Smith - Wrapped In My Memory   \n",
      "Downloading: Sweet Trip - Acting - 2021 Remaster\n",
      "Finished downloading: Sweet Trip - Acting - 2021 Remaster\n",
      "Downloading: Sweet Trip - Your World is Eternally Complete - 2021 Remaster\n",
      "Finished downloading: Sweet Trip - Your World is Eternally Complete - 2021 Remaster\n",
      "Downloading: Sweet Trip - To the Moon - 2021 Remaster\n",
      "Finished downloading: Sweet Trip - To the Moon - 2021 Remaster\n",
      "Downloading: Sweet Trip - Pretending - 2021 Remaster\n",
      "Finished downloading: Sweet Trip - Pretending - 2021 Remaster\n",
      "Downloading: Sweet Trip - Things to Ponder While Falling - 2021 Re-Record\n",
      "Finished downloading: Sweet Trip - Things to Ponder While Falling - 2021 Re-Record\n",
      "Downloading: Sweet Trip - Song About a Sea - 2021 Remaster\n",
      "Finished downloading: Sweet Trip - Song About a Sea - 2021 Remaster\n",
      "Downloading: Sweet Trip - Darkness - 2021 Remaster\n",
      "Finished downloading: Sweet Trip - Darkness - 2021 Remaster\n",
      "Downloading: Sweet Trip - No Words to Be Found - 2021 Remaster\n",
      "Finished downloading: Sweet Trip - No Words to Be Found - 2021 Remaster\n"
     ]
    }
   ],
   "source": [
    "download_dir = './test_download/'\n",
    "connectors.download_songs_from_youtube(\n",
    "    songs, download_dir, ffmpeg_loc='C:\\\\Users\\\\Paarth Tandon\\\\Desktop\\\\repos\\\\personal-music-gen\\\\ffmpeg-6\\\\bin\\\\ffmpeg.exe'\n",
    ")"
   ]
  }
 ],
 "metadata": {
  "kernelspec": {
   "display_name": ".venv",
   "language": "python",
   "name": "python3"
  },
  "language_info": {
   "codemirror_mode": {
    "name": "ipython",
    "version": 3
   },
   "file_extension": ".py",
   "mimetype": "text/x-python",
   "name": "python",
   "nbconvert_exporter": "python",
   "pygments_lexer": "ipython3",
   "version": "3.9.18"
  }
 },
 "nbformat": 4,
 "nbformat_minor": 2
}
